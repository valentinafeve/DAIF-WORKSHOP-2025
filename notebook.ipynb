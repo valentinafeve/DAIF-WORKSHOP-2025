{
 "cells": [
  {
   "cell_type": "markdown",
   "id": "00d00000-ca78-48a8-b245-a5f5643d4e5d",
   "metadata": {},
   "source": [
    "# Workshop: Introducción a Generative AI en Oracle y Creación de Agentes con LangChain\n",
    "\n",
    "Bienvenidos al workshop. En esta sesión vamos a explorar cómo usar los **servicios de IA generativa de Oracle** para resolver problemas reales y luego **crear un agente inteligente** usando **LangChain** que pueda interactuar con estos servicios.\n",
    "\n",
    "## Objetivos de la sesión\n",
    "- Conocer la oferta de **Oracle Cloud Infrastructure (OCI Generative AI)** y cómo integrarla desde Python.\n",
    "- Ejecutar peticiones a modelos de lenguaje para **generar texto** de manera controlada.\n",
    "- Construir un **agente con LangChain** que use herramientas (como SQL o RAG) para responder preguntas de forma autónoma.\n",
    "- Aprender buenas prácticas para **orquestar flujos de trabajo** y extender capacidades de los modelos.\n",
    "\n",
    "## Requisitos previos\n",
    "- Conocimientos básicos de Python 🐍\n",
    "- Tener acceso a una cuenta de **Oracle Cloud** con permisos para usar **OCI Generative AI**\n",
    "- Familiaridad básica con entornos virtuales y Jupyter Notebooks.\n",
    "\n",
    "> 💡 **Tip:** este notebook está diseñado para ser práctico y paso a paso. Podrás copiar, ejecutar y modificar el código para experimentar con los conceptos que vamos a explicar.\n",
    "\n",
    "¡Vamos a empezar!"
   ]
  },
  {
   "cell_type": "markdown",
   "id": "69740d84-2c48-4b00-bbdc-81baeea85f03",
   "metadata": {
    "tags": []
   },
   "source": [
    "## A continuación... "
   ]
  },
  {
   "cell_type": "markdown",
   "id": "95a9ae5b-c628-4761-931c-f050714a3c10",
   "metadata": {
    "tags": []
   },
   "source": [
    "📰 Recopilaremos noticias sobre el paro del 16 de Septiembre ocurrido en la ciudad de Bogotá \n",
    "\n",
    "🤖 Consumiremos un modelo de lenguaje alojado en Oracle Cloud \n",
    "\n",
    "🔍 Construiremos un agente con langchain que es capaz de responder a preguntas relacionadas con el paro del 16 de septiembre "
   ]
  },
  {
   "cell_type": "markdown",
   "id": "4a68ff69-1cae-476e-ac6f-e2d311ee51b9",
   "metadata": {},
   "source": [
    "## Instalación"
   ]
  },
  {
   "cell_type": "code",
   "execution_count": null,
   "id": "1e73f277-6ad5-40e2-ae55-52adea8561a9",
   "metadata": {
    "tags": []
   },
   "outputs": [],
   "source": [
    "!pip install tavily-python\n",
    "!pip install -U langchain-community langchain-core oci"
   ]
  },
  {
   "cell_type": "code",
   "execution_count": null,
   "id": "af26ee66",
   "metadata": {},
   "outputs": [],
   "source": [
    "import requests\n",
    "from langchain_core.tools import tool\n",
    "from typing import Dict, List\n",
    "import re\n",
    "from tavily import TavilyClient\n",
    "import oci\n",
    "import json\n",
    "from oci.auth.signers import get_resource_principals_signer\n",
    "from oci.config import from_file\n",
    "from langchain_core.messages import HumanMessage\n",
    "from langchain_community.chat_models import ChatOCIGenAI\n",
    "from langchain.agents import AgentExecutor, create_react_agent\n",
    "from langchain_core.prompts import PromptTemplate\n",
    "from IPython.display import Markdown, display\n",
    "import json\n"
   ]
  },
  {
   "cell_type": "markdown",
   "id": "af871c27",
   "metadata": {},
   "source": [
    "Nuestro agente necesita acceso a la web para acceder a las últimas noticias del tema que le hemos indicado, para esto, es necesario configurar una herramienta que le permita a nuestro agente navegar por portales de noticias, por eso usaremos [Tavily](https://www.tavily.com/).\n",
    "\n",
    "## 🪪 Registro en Tavily (paso a paso)\n",
    "\n",
    "1) Abre **https://app.tavily.com/home** y haz clic en **Sign Up**. Verifica tu correo electrónico para activar la cuenta. ![image1](./images/tavily_signup.png)\n",
    "2) Inicia sesión: en la **página principal** verás tu **API Key**. Haz **Copy** para copiarla. ![image2](./images/api_key.png)\n"
   ]
  },
  {
   "cell_type": "code",
   "execution_count": null,
   "id": "bca1aebc",
   "metadata": {},
   "outputs": [],
   "source": [
    "# Pega la API Key de Tavily aquí\n",
    "TAVILY_API_KEY = \"pega_aqui_tu_api_key\""
   ]
  },
  {
   "cell_type": "code",
   "execution_count": null,
   "id": "91d1cb58",
   "metadata": {},
   "outputs": [],
   "source": [
    "assert TAVILY_API_KEY != \"pega_aqui_tu_api_key\", \"Por favor, pega tu API Key de Tavily en la variable TAVILY_API_KEY\""
   ]
  },
  {
   "cell_type": "code",
   "execution_count": null,
   "id": "a54d6a7b-5df0-4844-82a4-c08f81aa74a7",
   "metadata": {
    "tags": []
   },
   "outputs": [],
   "source": [
    "COLOMBIA_PARO_DOMAINS = [\n",
    "    \"bogota.gov.co\", \"larepublica.co\", \"eltiempo.com\", \"semana.com\", \"noticiascaracol.com\", \"elcolombiano.com\", \"rcnradio.com\", \"elespectador.com\", \"las2orillas.co\", \"bluradio.com\", \"ambientarteradio.com\", \"elnuevosiglo.com.co\", \"pulzo.com\", \"lasillavacia.com\"\n",
    "]\n",
    "@tool\n",
    "def get_paro_comprehensive_news(pregunta:str=\"Horarios, agenda, causas y afectaciones del paro de transporte de Septiembre en Bogotá\") -> str:\n",
    "    \"\"\"Devuelve info/noticias de horarios, agenda, causas y afectaciones del paro de transporte de Septiembre en Bogotá.\"\"\"\n",
    "\n",
    "    client = TavilyClient(TAVILY_API_KEY)\n",
    "    response = client.search(\n",
    "    query=pregunta,\n",
    "    #include_domains=CHILE_FIESTAS_DOMAINS,\n",
    "    #topic=\"news\",\n",
    "    #days=45,\n",
    "    #max_results=10\n",
    "    )\n",
    "    return response"
   ]
  },
  {
   "cell_type": "markdown",
   "id": "00cd285f-a7bd-4102-9457-b75dd188fc61",
   "metadata": {},
   "source": [
    "## Configuración de la autenticación del SDK de OCI"
   ]
  },
  {
   "cell_type": "markdown",
   "id": "da16013c",
   "metadata": {},
   "source": [
    "Desde este notebook es necesario acceder a algunos servicios de Oracle, como el servicio de Generative AI, aunque ejecutes este notebook en cloud o de forma local, es necesario configurar las credenciales en la máquina que realiza el consumo del servicio. \n",
    "\n",
    "```\n",
    "En los pasos anteriores fue necesario descargar un archivo terminado en .pem y copiar una configuración con el siguiente estilo\n",
    "[DEFAULT]\n",
    "user=ocid1.user.oc1..\n",
    "fingerprint=95:e1:09\n",
    "tenancy=ocid1.tenancy.oc1..\n",
    "region= \n",
    "```\n",
    "\n",
    "A continuación usaremos esos objetos."
   ]
  },
  {
   "cell_type": "code",
   "execution_count": null,
   "id": "4dbc5c76-da7c-4bba-98ae-9649a6c289a5",
   "metadata": {
    "tags": []
   },
   "outputs": [
    {
     "name": "stdout",
     "output_type": "stream",
     "text": [
      "mkdir: /home/datascience: Operation not supported\n"
     ]
    }
   ],
   "source": [
    "# crea carpeta y permisos\n",
    "!mkdir -p /home/datascience/.oci"
   ]
  },
  {
   "cell_type": "code",
   "execution_count": null,
   "id": "cb7f5c13-2ba1-46b9-8f8e-1e8bf39db2f4",
   "metadata": {
    "tags": []
   },
   "outputs": [],
   "source": [
    "# Ver tu HOME y listar (incluye ocultos)\n",
    "!echo $HOME\n",
    "!ls -la $HOME | head -n 30"
   ]
  },
  {
   "cell_type": "code",
   "execution_count": null,
   "id": "0dba1b9b-0309-4677-ab7b-36a9b9e7066b",
   "metadata": {
    "tags": []
   },
   "outputs": [],
   "source": [
    "!mkdir -p ~/.oci\n",
    "!ls -la ~/.oci\n"
   ]
  },
  {
   "cell_type": "markdown",
   "id": "693053ee",
   "metadata": {},
   "source": [
    "Ahora vamos a ubicar la llave privada que descargamos en los pasos anteriores al generar el API Key. El archivo tendrá un nombre similar a “tu_usuario-año-mes-diaTHH_MM_SS.XXX.pem”.\n",
    "\n",
    "Este archivo debe renombrarse como “oci_api_key.pem” y cargarse en Data Science utilizando la opción “Upload Files”, o bien arrastrándolo directamente en el menú izquierdo del navegador.\n",
    "\n",
    "Una vez que el archivo esté cargado, podremos proceder con la ejecución de la siguiente línea."
   ]
  },
  {
   "cell_type": "code",
   "execution_count": null,
   "id": "951f2815-054d-4dc8-9529-2a73265a156e",
   "metadata": {
    "tags": []
   },
   "outputs": [],
   "source": [
    "!mv ~/oci_api_key.pem ~/.oci/oci_api_key.pem\n",
    "!chmod 600 ~/.oci/oci_api_key.pem\n",
    "!ls -la ~/.oci"
   ]
  },
  {
   "cell_type": "markdown",
   "id": "777c7933",
   "metadata": {},
   "source": [
    "A continuación, crearemos el archivo de configuración en la ruta ~/.oci/config, vamos a copiar los valores de la configuración mostrada en pantalla y a reemplazarlos en la siguiente línea.\n",
    "\n",
    "Reemplazaremos _ocid1.user.oc1.._ por el ocid del usuario mostrado en pantalla\n",
    "Reemplazaremos _fingerprint_ por el figerprint mostrado en pantalla\n",
    "Reemplazaremos _fingerprint_ por el figerprint mostrado en pantalla\n",
    "Reemplazaremos _fingerprint_ por el figerprint mostrado en pantalla\n",
    "🚨 No reemplazaremos _key_file_ por ninguna ruta si estamos ejecutando este notebook en DataScience. Si queremos ejecutar este notebook de forma local, podemos reemplazar la ruta por ~/.oci/nombre_de_la_key.pem "
   ]
  },
  {
   "cell_type": "code",
   "execution_count": null,
   "id": "3aa8abdf-a239-430b-9f57-2380ff1995bb",
   "metadata": {
    "tags": []
   },
   "outputs": [],
   "source": [
    "%%bash\n",
    "cat > ~/.oci/config <<'CFG'\n",
    "[DEFAULT]\n",
    "user=ocid1.user.oc1..\n",
    "fingerprint=95:e1:09\n",
    "tenancy=ocid1.tenancy.oc1..\n",
    "region=\n",
    "key_file=/home/datascience/.oci/oci_api_key.pem\n",
    "CFG\n",
    "\n",
    "echo \"Config creado en ~/.oci/config\"\n",
    "cat ~/.oci/config | sed 's/fingerprint=.*/fingerprint=<oculto>/'"
   ]
  },
  {
   "cell_type": "code",
   "execution_count": null,
   "id": "9fe49d86-3bdf-42c8-9c17-9673a9541414",
   "metadata": {
    "tags": []
   },
   "outputs": [],
   "source": [
    "# Quita posibles finales de línea de Windows (CRLF)\n",
    "!sed -i 's/\\r$//' ~/.oci/config\n",
    "\n",
    "# mostrar\n",
    "!sed -n '1,200p' ~/.oci/config"
   ]
  },
  {
   "cell_type": "code",
   "execution_count": null,
   "id": "7ff44910-0d86-4f3b-b66c-b6906aca9a15",
   "metadata": {
    "tags": []
   },
   "outputs": [],
   "source": [
    "config = from_file()"
   ]
  },
  {
   "cell_type": "code",
   "execution_count": null,
   "id": "0046ac37",
   "metadata": {},
   "outputs": [],
   "source": [
    "# Descomenta únicamente la línea que corresponda a tu región\n",
    "#REGION = \"sa-saopaulo-1\"\n",
    "#REGION = \"us-chicago-1\"\n",
    "#REGION = \"uk-london-1\"\n",
    "#REGION = \"eu-frankfurt-1\"\n",
    "#REGION = \"ap-osaka-1\""
   ]
  },
  {
   "cell_type": "code",
   "execution_count": null,
   "id": "01467f16",
   "metadata": {},
   "outputs": [],
   "source": [
    "assert REGION in [\"sa-saopaulo-1\", \"us-chicago-1\", \"uk-london-1\", \"eu-frankfurt-1\", \"ap-osaka-1\"], \"Por favor, descomenta la línea que corresponda a tu región\""
   ]
  },
  {
   "cell_type": "code",
   "execution_count": null,
   "id": "b9f104cc",
   "metadata": {},
   "outputs": [],
   "source": [
    "# Aquí debes pegar el OCID de tu compartimento\n",
    "# Encuentra el OCID de tu compartimento en la consola de Oracle Cloud, en la sección de Compartments https://cloud.oracle.com/identity/compartments\n",
    "COMPARTMENT_ID = \"ocid1.compartment.oc1....\""
   ]
  },
  {
   "cell_type": "code",
   "execution_count": null,
   "id": "efedd31c-03e7-473a-80f3-e42d9d5e2bcb",
   "metadata": {
    "tags": []
   },
   "outputs": [],
   "source": [
    "SERVICE_ENDPOINT = f\"https://inference.generativeai.{REGION}.oci.oraclecloud.com\"\n",
    "MODEL_ID = \"ocid1.generativeaimodel.oc1.us-chicago-1.amaaaaaask7dceya6dvgvvj3ovy4lerdl6fvx525x3yweacnrgn4ryfwwcoq\""
   ]
  },
  {
   "cell_type": "code",
   "execution_count": null,
   "id": "a4512fb9",
   "metadata": {},
   "outputs": [],
   "source": [
    "if MODEL_ID is None:\n",
    "    from oci.generative_ai import GenerativeAiClient\n",
    "    genai = GenerativeAiClient()\n",
    "    models = genai.list_models(\n",
    "        compartment_id=COMPARTMENT_ID,\n",
    "        capability=[\"CHAT\"],\n",
    "        lifecycle_state=\"ACTIVE\"\n",
    "    ).data.items\n",
    "    assert models, \"No hay modelos CHAT visibles en el compartimento. Revisa permisos/compartimento.\"\n",
    "    MODEL_ID = models[0].id\n",
    "    print(\"Usando modelo:\", MODEL_ID)\n",
    "\n",
    "# === Cliente de inferencia ===\n",
    "inf = oci.generative_ai_inference.GenerativeAiInferenceClient(\n",
    "    config=config,\n",
    "    service_endpoint=SERVICE_ENDPOINT\n",
    ")\n",
    "\n",
    "# === Prompt del usuario ===\n",
    "user_input = \"hola, tienes información del paro del 16 de Septiembre en Bogotá?\"\n",
    "\n",
    "# --- Construcción del request ---\n",
    "content = oci.generative_ai_inference.models.TextContent(text=user_input)\n",
    "message = oci.generative_ai_inference.models.Message(role=\"USER\", content=[content])\n",
    "\n",
    "chat_request = oci.generative_ai_inference.models.GenericChatRequest(\n",
    "    api_format=oci.generative_ai_inference.models.BaseChatRequest.API_FORMAT_GENERIC,\n",
    "    messages=[message],\n",
    "    max_tokens=600,\n",
    "    temperature=1.0,\n",
    "    frequency_penalty=0.0,\n",
    "    presence_penalty=0.0,\n",
    "    top_p=0.75,\n",
    ")\n",
    "\n",
    "chat_detail = oci.generative_ai_inference.models.ChatDetails(\n",
    "    serving_mode=oci.generative_ai_inference.models.OnDemandServingMode(model_id=MODEL_ID),\n",
    "    chat_request=chat_request,\n",
    "    compartment_id=COMPARTMENT_ID,\n",
    ")\n",
    "\n",
    "# === Llamada ===\n",
    "resp = inf.chat(chat_detail)\n",
    "\n",
    "# === Resultado ===\n",
    "choices = resp.data.chat_response.choices\n",
    "response_text = choices[0].message.content[0].text if choices else \"No se generó respuesta.\"\n",
    "print(json.dumps({\"response\": response_text}, indent=2, ensure_ascii=False))"
   ]
  },
  {
   "cell_type": "markdown",
   "id": "89e084ae-d7c2-4e21-b6f7-56f14e8507b6",
   "metadata": {},
   "source": [
    "## 🤖 Creación del Agente LangChain"
   ]
  },
  {
   "cell_type": "code",
   "execution_count": null,
   "id": "b33d7b28-e4f6-4bbd-b54b-785f34b6f59c",
   "metadata": {
    "tags": []
   },
   "outputs": [],
   "source": [
    "# Configura tu endpoint y compartimento\n",
    "ENDPOINT = f\"https://inference.generativeai.{REGION}.oci.oraclecloud.com\"\n",
    "\n",
    "llm = ChatOCIGenAI(\n",
    "  model_id=\"meta.llama-4-maverick-17b-128e-instruct-fp8\",\n",
    "  service_endpoint=\"https://inference.generativeai.us-chicago-1.oci.oraclecloud.com\",\n",
    "  compartment_id=COMPARTMENT_ID,\n",
    "  provider=\"meta\",\n",
    "  model_kwargs={\n",
    "    \"temperature\": 0.3, \n",
    "    \"max_tokens\": 800,   \n",
    "    \"top_p\": 0.8,  \n",
    "    \"frequency_penalty\": 0,\n",
    "    \"presence_penalty\": 0,\n",
    "  },\n",
    "  auth_type=\"API_KEY\",\n",
    "  auth_profile=\"DEFAULT\"\n",
    ")\n",
    "\n",
    "tools = [get_paro_comprehensive_news]\n",
    "\n",
    "react_prompt_template = \"\"\"Eres un asistente especializado en el paro de transporte del 16 de septiembre en Bogotá.\n",
    "Responde en español de Colombia y usa las herramientas disponibles cuando sea útil.\n",
    "\n",
    "REGLAS IMPORTANTES:\n",
    "\n",
    "Tras usar una herramienta, resume con tus palabras los hallazgos (no pegues el JSON).\n",
    "\n",
    "Prioriza información reciente y oficial (Alcaldía de Bogotá, Secretaría de Movilidad, medios reconocidos).\n",
    "\n",
    "Incluye rutas afectadas, alternativas de transporte, horarios y enlaces útiles cuando existan.\n",
    "\n",
    "Si hay discrepancias entre fuentes, indícalas brevemente.\n",
    "\n",
    "Herramientas disponibles:\n",
    "{tools}\n",
    "\n",
    "Usa EXACTAMENTE este formato:\n",
    "\n",
    "Question: la pregunta a responder\n",
    "Thought: explica qué harás\n",
    "Action: una de [{tool_names}]\n",
    "Action Input: el input para la acción (o \"\" si no aplica)\n",
    "Observation: resultado de la acción\n",
    "Thought: analiza y sintetiza\n",
    "Final Answer: respuesta clara y útil en español de Colombia\n",
    "\n",
    "Comienza.\n",
    "\n",
    "Question: {input}\n",
    "Thought: {agent_scratchpad}\"\"\"\n",
    "\n",
    "prompt = PromptTemplate.from_template(react_prompt_template)\n",
    "agent = create_react_agent(llm, tools, prompt)\n",
    "\n",
    "agent_executor = AgentExecutor(\n",
    "    agent=agent,\n",
    "    tools=tools,\n",
    "    verbose=True,\n",
    "    max_iterations=6,\n",
    "    stream_runnable=False,\n",
    "    handle_parsing_errors=True\n",
    ")\n",
    "pregunta = \"cuál es la causa del paro?\"\n",
    "respuesta = agent_executor.invoke({\"input\": pregunta})\n",
    "\n",
    "pregunta = \"¿Qué organización participa en el paro?\"\n",
    "respuesta = agent_executor.invoke({\"input\": pregunta})\n"
   ]
  },
  {
   "cell_type": "code",
   "execution_count": null,
   "id": "9cef07f0-51f8-4ba2-9a25-f3628023ad6e",
   "metadata": {
    "tags": []
   },
   "outputs": [],
   "source": [
    "respuesta"
   ]
  },
  {
   "cell_type": "code",
   "execution_count": null,
   "id": "8ba9c18b-2e1f-4a4b-bf43-0ac876d73634",
   "metadata": {
    "tags": []
   },
   "outputs": [],
   "source": [
    "# 1) Toma la salida del agente y conviértela a texto de forma segura\n",
    "def _to_text(x):\n",
    "    if isinstance(x, dict):\n",
    "        # LangChain AgentExecutor suele devolver {\"output\": \"...\"}\n",
    "        return x.get(\"output\") or json.dumps(x, ensure_ascii=False, indent=2)\n",
    "    return str(x)\n",
    "\n",
    "insumos = _to_text(respuesta)   # <--- usa la variable 'respuesta' que ya tienes del agente\n",
    "\n",
    "# 2) Prompt de análisis/síntesis para Fiestas Patrias (Chile)\n",
    "analysis_prompt = f\"\"\"\n",
    "Eres un analista colombiano especializado en **el paro de transporte del 16 de septiembre en Bogotá**.  \n",
    "Usa solo los datos entregados más abajo para responder en **español de Colombia**, claro y útil.\n",
    "\n",
    "**DATOS RECOLECTADOS** (pueden incluir JSON):  \n",
    "{insumos}\n",
    "\n",
    "---\n",
    "\n",
    "### TAREAS  \n",
    "1. Responde directamente a la pregunta: **\"{pregunta}\"**.  \n",
    "2. Extrae y organiza lo más importante (si está disponible):  \n",
    "   - **hora de inicio y fin**  \n",
    "   - **zonas afectadas**  \n",
    "   - **rutas de TransMilenio y SITP impactadas**  \n",
    "   - **bloqueos o marchas**  \n",
    "   - **alternativas de transporte**  \n",
    "   - **enlaces oficiales**  \n",
    "3. Indica si se reportan **medidas de la Alcaldía** (desvíos, refuerzos de policía, pico y placa solidario, teletrabajo sugerido, etc.) y cualquier impacto en **tráfico, colegios, oficinas y eventos** si está en los datos.  \n",
    "4. Si hay discrepancias entre fuentes, menciónalas brevemente.  \n",
    "\n",
    "---\n",
    "\n",
    "### FORMATO (Markdown)\n",
    "\n",
    "#### ## Resumen  \n",
    "- 3–5 líneas con lo esencial (hora, zonas críticas, recomendaciones).  \n",
    "\n",
    "#### ## Rutas y afectaciones (si hay datos)  \n",
    "- **Sistema/sector – Afectación**: detalle de bloqueo o desvío | horario | recomendaciones | enlace  \n",
    "\n",
    "## Recomendaciones (si hay datos)\n",
    "- Lista de recomendaciones\n",
    "\n",
    "#### ## Fuentes  \n",
    "- Lista de URLs citadas (solo si aparecen en los datos).  \n",
    "\n",
    "---\n",
    "\n",
    "### REGLAS  \n",
    "- **No inventes** datos ni enlaces. Si algo no está en los datos, escribe: *No disponible*.  \n",
    "- Prioriza información **reciente y oficial** (Alcaldía de Bogotá, Secretaría de Movilidad, TransMilenio, medios confiables).\n",
    "\"\"\"\n",
    "\n",
    "# 3) Invoca la LLM (no streaming) y muestra en Markdown\n",
    "analysis_response = llm.invoke(analysis_prompt)\n",
    "display(Markdown(analysis_response.content))"
   ]
  }
 ],
 "metadata": {
  "kernelspec": {
   "display_name": "oci-ai",
   "language": "python",
   "name": "python3"
  },
  "language_info": {
   "codemirror_mode": {
    "name": "ipython",
    "version": 3
   },
   "file_extension": ".py",
   "mimetype": "text/x-python",
   "name": "python",
   "nbconvert_exporter": "python",
   "pygments_lexer": "ipython3",
   "version": "3.11.13"
  },
  "toc-autonumbering": true
 },
 "nbformat": 4,
 "nbformat_minor": 5
}
